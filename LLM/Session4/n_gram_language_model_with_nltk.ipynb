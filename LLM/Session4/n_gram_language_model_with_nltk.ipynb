{
  "cells": [
    {
      "cell_type": "code",
      "execution_count": null,
      "metadata": {
        "_uuid": "10bbe6360f9659217f9f40455301aa72d6b614a6",
        "id": "8lqZGzvvZCZf",
        "outputId": "8bff9b63-239f-479b-9899-04ce74d4553b"
      },
      "outputs": [
        {
          "name": "stdout",
          "output_type": "stream",
          "text": [
            "Collecting pip\r\n",
            "\u001b[?25l  Downloading https://files.pythonhosted.org/packages/3a/6f/35de4f49ae5c7fdb2b64097ab195020fb48faa8ad3a85386ece6953c11b1/pip-19.2-py2.py3-none-any.whl (1.4MB)\r\n",
            "\u001b[K     |████████████████████████████████| 1.4MB 2.8MB/s \r\n",
            "\u001b[?25hInstalling collected packages: pip\r\n",
            "  Found existing installation: pip 19.1.1\r\n",
            "    Uninstalling pip-19.1.1:\r\n",
            "      Successfully uninstalled pip-19.1.1\r\n",
            "Successfully installed pip-19.2\r\n",
            "Requirement already up-to-date: dill in /opt/conda/lib/python3.6/site-packages (0.3.0)\r\n",
            "Collecting nltk==3.4\r\n",
            "\u001b[?25l  Downloading https://files.pythonhosted.org/packages/6f/ed/9c755d357d33bc1931e157f537721efb5b88d2c583fe593cc09603076cc3/nltk-3.4.zip (1.4MB)\r\n",
            "\u001b[K     |████████████████████████████████| 1.4MB 2.9MB/s \r\n",
            "\u001b[?25hRequirement already satisfied, skipping upgrade: six in /opt/conda/lib/python3.6/site-packages (from nltk==3.4) (1.12.0)\r\n",
            "Requirement already satisfied, skipping upgrade: singledispatch in /opt/conda/lib/python3.6/site-packages (from nltk==3.4) (3.4.0.3)\r\n",
            "Building wheels for collected packages: nltk\r\n",
            "  Building wheel for nltk (setup.py) ... \u001b[?25l-\b \b\\\b \b|\b \b/\b \b-\b \b\\\b \bdone\r\n",
            "\u001b[?25h  Created wheel for nltk: filename=nltk-3.4-cp36-none-any.whl size=1436380 sha256=4d86d2b5636138db937fe1ccc6f88cf5c06032ef8a2d6a849629e719178bad55\r\n",
            "  Stored in directory: /tmp/.cache/pip/wheels/4b/c8/24/b2343664bcceb7147efeb21c0b23703a05b23fcfeaceaa2a1e\r\n",
            "Successfully built nltk\r\n",
            "\u001b[31mERROR: allennlp 0.8.4 requires awscli>=1.11.91, which is not installed.\u001b[0m\r\n",
            "\u001b[31mERROR: allennlp 0.8.4 requires flaky, which is not installed.\u001b[0m\r\n",
            "\u001b[31mERROR: allennlp 0.8.4 requires responses>=0.7, which is not installed.\u001b[0m\r\n",
            "\u001b[31mERROR: preprocessing 0.1.13 has requirement nltk==3.2.4, but you'll have nltk 3.4 which is incompatible.\u001b[0m\r\n",
            "Installing collected packages: nltk\r\n",
            "  Found existing installation: nltk 3.2.4\r\n",
            "    Uninstalling nltk-3.2.4:\r\n",
            "      Successfully uninstalled nltk-3.2.4\r\n",
            "Successfully installed nltk-3.4\r\n"
          ]
        }
      ],
      "source": [
        "!pip install -U pip\n",
        "!pip install -U dill\n",
        "!pip install -U nltk==3.4"
      ]
    },
    {
      "cell_type": "markdown",
      "metadata": {
        "_uuid": "65559326e76d2b7841244e1dd6ea448671411b95",
        "id": "yZK1LyQCZCZk"
      },
      "source": [
        "# N-grams Language Models (N-grams LM)\n",
        "\n",
        "Nowadays, everything seems to be going neural...\n",
        "\n",
        "Traditionally, we can use n-grams to generate language models to predict which word comes next given a history of words.\n",
        "\n",
        "We'll use the `lm` module in `nltk` to get a sense of how non-neural language modelling is done.\n",
        "\n",
        "(**Source:** The content in this notebook is largely based on [language model tutorial in NLTK documentation by Ilia Kurenkov](https://github.com/nltk/nltk/blob/develop/nltk/lm/__init__.py))"
      ]
    },
    {
      "cell_type": "code",
      "execution_count": null,
      "metadata": {
        "_uuid": "1b213fb0dd5534ce82d6f1c716e9695ba5cf9758",
        "id": "8TSvFjBOZCZm"
      },
      "outputs": [],
      "source": [
        "from nltk.util import pad_sequence\n",
        "from nltk.util import bigrams\n",
        "from nltk.util import ngrams\n",
        "from nltk.util import everygrams\n",
        "from nltk.lm.preprocessing import pad_both_ends\n",
        "from nltk.lm.preprocessing import flatten"
      ]
    },
    {
      "cell_type": "markdown",
      "metadata": {
        "_uuid": "800f7632b6a834d36b95211a912b390fcb9dc11b",
        "id": "2uceugzEZCZm"
      },
      "source": [
        "If we want to train a bigram model, we need to turn this text into bigrams. Here's what the first sentence of our text would look like if we use the `ngrams` function from NLTK for this."
      ]
    },
    {
      "cell_type": "code",
      "execution_count": null,
      "metadata": {
        "_uuid": "1c1716261478af5e75bba7799bfefc10bd1ea4ea",
        "id": "WKF8tD46ZCZm"
      },
      "outputs": [],
      "source": [
        "text = [['a', 'b', 'c'], ['a', 'c', 'd', 'c', 'e', 'f']]"
      ]
    },
    {
      "cell_type": "code",
      "execution_count": null,
      "metadata": {
        "_uuid": "a5a1c775bab7cf9c67656d4349d8bfca02a80738",
        "id": "Zp4l4_2FZCZn",
        "outputId": "22f9d7a8-0253-45cd-c293-937efbdf8423"
      },
      "outputs": [
        {
          "data": {
            "text/plain": [
              "[('a', 'b'), ('b', 'c')]"
            ]
          },
          "execution_count": 4,
          "metadata": {},
          "output_type": "execute_result"
        }
      ],
      "source": [
        "list(bigrams(text[0]))"
      ]
    },
    {
      "cell_type": "code",
      "execution_count": null,
      "metadata": {
        "_uuid": "0219988318e39dd0576913b8087af8b35cbdab2f",
        "id": "gLxrJSCWZCZn",
        "outputId": "16168918-5aab-4756-8e4a-8302afa53089"
      },
      "outputs": [
        {
          "data": {
            "text/plain": [
              "[('a', 'c', 'd'), ('c', 'd', 'c'), ('d', 'c', 'e'), ('c', 'e', 'f')]"
            ]
          },
          "execution_count": 5,
          "metadata": {},
          "output_type": "execute_result"
        }
      ],
      "source": [
        "list(ngrams(text[1], n=3))"
      ]
    },
    {
      "cell_type": "markdown",
      "metadata": {
        "_uuid": "e3a92b25dc25f3ae86fd265880b7f410e981c670",
        "id": "QhIaMTRhZCZn"
      },
      "source": [
        "Notice how \"b\" occurs both as the first and second member of different bigrams but \"a\" and \"c\" don't?\n",
        "\n",
        "Wouldn't it be nice to somehow indicate how often sentences start with \"a\" and end with \"c\"?\n",
        "\n",
        "\n",
        "A standard way to deal with this is to add special \"padding\" symbols to the sentence before splitting it into ngrams. Fortunately, NLTK also has a function for that, let's see what it does to the first sentence.\n"
      ]
    },
    {
      "cell_type": "code",
      "execution_count": null,
      "metadata": {
        "_uuid": "1ec58c94f58429c9160b4496c939f211f88ade54",
        "id": "-piMQLVNZCZo",
        "outputId": "59014935-74d1-4347-a374-622e00d5517f"
      },
      "outputs": [
        {
          "data": {
            "text/plain": [
              "['<s>', 'a', 'b', 'c', '</s>']"
            ]
          },
          "execution_count": 6,
          "metadata": {},
          "output_type": "execute_result"
        }
      ],
      "source": [
        "from nltk.util import pad_sequence\n",
        "list(pad_sequence(text[0],\n",
        "                  pad_left=True, left_pad_symbol=\"<s>\",\n",
        "                  pad_right=True, right_pad_symbol=\"</s>\",\n",
        "                  n=2)) # The n order of n-grams, if it's 2-grams, you pad once, 3-grams pad twice, etc."
      ]
    },
    {
      "cell_type": "code",
      "execution_count": null,
      "metadata": {
        "_uuid": "ae38644238aa46ac100381c0de046972090b093b",
        "id": "_z_UdY3ZZCZo",
        "outputId": "f188380a-b27a-4151-e104-836993f39235"
      },
      "outputs": [
        {
          "data": {
            "text/plain": [
              "[('<s>', 'a'), ('a', 'b'), ('b', 'c'), ('c', '</s>')]"
            ]
          },
          "execution_count": 7,
          "metadata": {},
          "output_type": "execute_result"
        }
      ],
      "source": [
        "padded_sent = list(pad_sequence(text[0], pad_left=True, left_pad_symbol=\"<s>\",\n",
        "                                pad_right=True, right_pad_symbol=\"</s>\", n=2))\n",
        "list(ngrams(padded_sent, n=2))"
      ]
    },
    {
      "cell_type": "code",
      "execution_count": null,
      "metadata": {
        "_uuid": "4cda3fcbd1b8ab48431240e04168011953ebc913",
        "id": "nS-7fkHmZCZp",
        "outputId": "9afcab0d-c3d2-4b5f-a9ce-bad83bcde7cf"
      },
      "outputs": [
        {
          "data": {
            "text/plain": [
              "['<s>', '<s>', 'a', 'b', 'c', '</s>', '</s>']"
            ]
          },
          "execution_count": 8,
          "metadata": {},
          "output_type": "execute_result"
        }
      ],
      "source": [
        "list(pad_sequence(text[0],\n",
        "                  pad_left=True, left_pad_symbol=\"<s>\",\n",
        "                  pad_right=True, right_pad_symbol=\"</s>\",\n",
        "                  n=3)) # The n order of n-grams, if it's 2-grams, you pad once, 3-grams pad twice, etc."
      ]
    },
    {
      "cell_type": "code",
      "execution_count": null,
      "metadata": {
        "_uuid": "bd572a57371a716471d156144e7ebc136072de01",
        "id": "-oFZsFMCZCZp",
        "outputId": "7d77a1e0-f5c3-4e74-c2b3-3cf1bdebd70e"
      },
      "outputs": [
        {
          "data": {
            "text/plain": [
              "[('<s>', '<s>', 'a'),\n",
              " ('<s>', 'a', 'b'),\n",
              " ('a', 'b', 'c'),\n",
              " ('b', 'c', '</s>'),\n",
              " ('c', '</s>', '</s>')]"
            ]
          },
          "execution_count": 9,
          "metadata": {},
          "output_type": "execute_result"
        }
      ],
      "source": [
        "padded_sent = list(pad_sequence(text[0], pad_left=True, left_pad_symbol=\"<s>\",\n",
        "                                pad_right=True, right_pad_symbol=\"</s>\", n=3))\n",
        "list(ngrams(padded_sent, n=3))"
      ]
    },
    {
      "cell_type": "markdown",
      "metadata": {
        "_uuid": "e4d80e5707a2efa7ea5cee601d07bca23bc0ae87",
        "id": "F5whFxKJZCZp"
      },
      "source": [
        "Note the `n` argument, that tells the function we need padding for bigrams.\n",
        "\n",
        "Now, passing all these parameters every time is tedious and in most cases they can be safely assumed as defaults anyway.\n",
        "\n",
        "Thus the `nltk.lm` module provides a convenience function that has all these arguments already set while the other arguments remain the same as for `pad_sequence`."
      ]
    },
    {
      "cell_type": "code",
      "execution_count": null,
      "metadata": {
        "_uuid": "eb64c3c2a205c5fc5e1fce6f63c3e9038f0d8c4a",
        "id": "6EnK5_a8ZCZq",
        "outputId": "8fa6c131-22f7-49b9-fdda-18bfbe0d3320"
      },
      "outputs": [
        {
          "data": {
            "text/plain": [
              "['<s>', 'a', 'b', 'c', '</s>']"
            ]
          },
          "execution_count": 10,
          "metadata": {},
          "output_type": "execute_result"
        }
      ],
      "source": [
        "from nltk.lm.preprocessing import pad_both_ends\n",
        "list(pad_both_ends(text[0], n=2))\n"
      ]
    },
    {
      "cell_type": "markdown",
      "metadata": {
        "_uuid": "2d2581fae73d38d623a77b5d523c957df2dc8478",
        "id": "A4yt2Na2ZCZq"
      },
      "source": [
        "Combining the two parts discussed so far we get the following preparation steps for one sentence."
      ]
    },
    {
      "cell_type": "code",
      "execution_count": null,
      "metadata": {
        "_uuid": "1168917cc340d400f6dba9b2703561785481d8e4",
        "id": "LnMJh1lfZCZq",
        "outputId": "a229cd90-44f0-40f6-c80e-6ba406ebb409"
      },
      "outputs": [
        {
          "data": {
            "text/plain": [
              "[('<s>', 'a'), ('a', 'b'), ('b', 'c'), ('c', '</s>')]"
            ]
          },
          "execution_count": 11,
          "metadata": {},
          "output_type": "execute_result"
        }
      ],
      "source": [
        "list(bigrams(pad_both_ends(text[0], n=2)))"
      ]
    },
    {
      "cell_type": "markdown",
      "metadata": {
        "_uuid": "2778a5e5b8d95bc395ba41af491818140c7f680e",
        "id": "qm371NyGZCZr"
      },
      "source": [
        "To make our model more robust we could also train it on unigrams (single words) as well as bigrams, its main source of information.\n",
        "NLTK once again helpfully provides a function called `everygrams`.\n",
        "\n",
        "While not the most efficient, it is conceptually simple."
      ]
    },
    {
      "cell_type": "code",
      "execution_count": null,
      "metadata": {
        "_uuid": "dfdc9effca718a7881f1fdc4562cdfb29164b96c",
        "id": "_KnMhlTOZCZr",
        "outputId": "0aba235c-40e5-4019-bc3f-9744f7aef986"
      },
      "outputs": [
        {
          "data": {
            "text/plain": [
              "[('<s>',),\n",
              " ('a',),\n",
              " ('b',),\n",
              " ('c',),\n",
              " ('</s>',),\n",
              " ('<s>', 'a'),\n",
              " ('a', 'b'),\n",
              " ('b', 'c'),\n",
              " ('c', '</s>')]"
            ]
          },
          "execution_count": 12,
          "metadata": {},
          "output_type": "execute_result"
        }
      ],
      "source": [
        "from nltk.util import everygrams\n",
        "padded_bigrams = list(pad_both_ends(text[0], n=2))\n",
        "list(everygrams(padded_bigrams, max_len=2))"
      ]
    },
    {
      "cell_type": "markdown",
      "metadata": {
        "_uuid": "d74b0ba683b733d5a83756361a905625a841e68d",
        "id": "TuI6bZj4ZCZr"
      },
      "source": [
        "We are almost ready to start counting ngrams, just one more step left.\n",
        "\n",
        "During training and evaluation our model will rely on a vocabulary that defines which words are \"known\" to the model.\n",
        "\n",
        "To create this vocabulary we need to pad our sentences (just like for counting ngrams) and then combine the sentences into one flat stream of words.\n"
      ]
    },
    {
      "cell_type": "code",
      "execution_count": null,
      "metadata": {
        "_uuid": "310c937ea7cc847a26f6c3d08c7169e8cd6b354a",
        "id": "KAT_5UeCZCZr",
        "outputId": "e4098431-3bad-457a-9e2f-add12e4894d2"
      },
      "outputs": [
        {
          "data": {
            "text/plain": [
              "['<s>', 'a', 'b', 'c', '</s>', '<s>', 'a', 'c', 'd', 'c', 'e', 'f', '</s>']"
            ]
          },
          "execution_count": 13,
          "metadata": {},
          "output_type": "execute_result"
        }
      ],
      "source": [
        "from nltk.lm.preprocessing import flatten\n",
        "list(flatten(pad_both_ends(sent, n=2) for sent in text))"
      ]
    },
    {
      "cell_type": "markdown",
      "metadata": {
        "_uuid": "5bab7d656c474d945669e6a86bf4beec3a44189e",
        "id": "HzPeu0jjZCZr"
      },
      "source": [
        "In most cases we want to use the same text as the source for both vocabulary and ngram counts.\n",
        "\n",
        "Now that we understand what this means for our preprocessing, we can simply import a function that does everything for us."
      ]
    },
    {
      "cell_type": "code",
      "execution_count": null,
      "metadata": {
        "_uuid": "147ccdd961ac97492ee9f0eadf3dfce7325c6790",
        "id": "d3Nk6wiAZCZs"
      },
      "outputs": [],
      "source": [
        "from nltk.lm.preprocessing import padded_everygram_pipeline\n",
        "train, vocab = padded_everygram_pipeline(2, text)"
      ]
    },
    {
      "cell_type": "markdown",
      "metadata": {
        "_uuid": "b1b15504f2fb4487deec19de1c5ca786e49a42d6",
        "id": "itl9-DBoZCZs"
      },
      "source": [
        "So as to avoid re-creating the text in memory, both `train` and `vocab` are lazy iterators. They are evaluated on demand at training time.\n",
        "\n",
        "For the sake of understanding the output of `padded_everygram_pipeline`, we'll \"materialize\" the lazy iterators by casting them into a list."
      ]
    },
    {
      "cell_type": "code",
      "execution_count": null,
      "metadata": {
        "_uuid": "aa18a8a4a700926c30488c94cf519d8900de8ddf",
        "id": "UNuFW7cLZCZs",
        "outputId": "57e917af-9365-49a9-e209-9ef9a20a0457"
      },
      "outputs": [
        {
          "name": "stdout",
          "output_type": "stream",
          "text": [
            "[('<s>',), ('a',), ('b',), ('c',), ('</s>',), ('<s>', 'a'), ('a', 'b'), ('b', 'c'), ('c', '</s>')]\n",
            "\n",
            "[('<s>',), ('a',), ('c',), ('d',), ('c',), ('e',), ('f',), ('</s>',), ('<s>', 'a'), ('a', 'c'), ('c', 'd'), ('d', 'c'), ('c', 'e'), ('e', 'f'), ('f', '</s>')]\n",
            "\n",
            "#############\n"
          ]
        },
        {
          "data": {
            "text/plain": [
              "['<s>', 'a', 'b', 'c', '</s>', '<s>', 'a', 'c', 'd', 'c', 'e', 'f', '</s>']"
            ]
          },
          "execution_count": 15,
          "metadata": {},
          "output_type": "execute_result"
        }
      ],
      "source": [
        "training_ngrams, padded_sentences = padded_everygram_pipeline(2, text)\n",
        "for ngramlize_sent in training_ngrams:\n",
        "    print(list(ngramlize_sent))\n",
        "    print()\n",
        "print('#############')\n",
        "list(padded_sentences)"
      ]
    },
    {
      "cell_type": "markdown",
      "metadata": {
        "_uuid": "4638a871a58694a77473a590728ebf25047cd6eb",
        "id": "LSE_FZyQZCZs"
      },
      "source": [
        "## Lets get some real data and tokenize it"
      ]
    },
    {
      "cell_type": "code",
      "execution_count": null,
      "metadata": {
        "_uuid": "c679084566e711286d861a622e21ca5c04db7bee",
        "id": "p2wOfJQ9ZCZs"
      },
      "outputs": [],
      "source": [
        "try: # Use the default NLTK tokenizer.\n",
        "    from nltk import word_tokenize, sent_tokenize\n",
        "    # Testing whether it works.\n",
        "    # Sometimes it doesn't work on some machines because of setup issues.\n",
        "    word_tokenize(sent_tokenize(\"This is a foobar sentence. Yes it is.\")[0])\n",
        "except: # Use a naive sentence tokenizer and toktok.\n",
        "    import re\n",
        "    from nltk.tokenize import ToktokTokenizer\n",
        "    # See https://stackoverflow.com/a/25736515/610569\n",
        "    sent_tokenize = lambda x: re.split(r'(?<=[^A-Z].[.?]) +(?=[A-Z])', x)\n",
        "    # Use the toktok tokenizer that requires no dependencies.\n",
        "    toktok = ToktokTokenizer()\n",
        "    word_tokenize = word_tokenize = toktok.tokenize"
      ]
    },
    {
      "cell_type": "code",
      "execution_count": null,
      "metadata": {
        "_uuid": "9bb181f26fb777464b7d4e6d08beac724864cefe",
        "id": "eACID_VUZCZt"
      },
      "outputs": [],
      "source": [
        "import os\n",
        "import requests\n",
        "import io #codecs\n",
        "\n",
        "\n",
        "# Text version of https://kilgarriff.co.uk/Publications/2005-K-lineer.pdf\n",
        "if os.path.isfile('language-never-random.txt'):\n",
        "    with io.open('language-never-random.txt', encoding='utf8') as fin:\n",
        "        text = fin.read()\n",
        "else:\n",
        "    url = \"https://gist.githubusercontent.com/alvations/53b01e4076573fea47c6057120bb017a/raw/b01ff96a5f76848450e648f35da6497ca9454e4a/language-never-random.txt\"\n",
        "    text = requests.get(url).content.decode('utf8')\n",
        "    with io.open('language-never-random.txt', 'w', encoding='utf8') as fout:\n",
        "        fout.write(text)"
      ]
    },
    {
      "cell_type": "code",
      "execution_count": null,
      "metadata": {
        "_uuid": "af4102fcbf643e09319ca6394c175ca64082fd19",
        "id": "MV4Yf-KQZCZt"
      },
      "outputs": [],
      "source": [
        "# Tokenize the text.\n",
        "tokenized_text = [list(map(str.lower, word_tokenize(sent)))\n",
        "                  for sent in sent_tokenize(text)]"
      ]
    },
    {
      "cell_type": "code",
      "execution_count": null,
      "metadata": {
        "_uuid": "9daa634f65b63882f7192a9489fba198970f3771",
        "id": "IFO3CUXEZCZt",
        "outputId": "6c1976ec-f5c3-40b5-90b6-9d139077b210"
      },
      "outputs": [
        {
          "data": {
            "text/plain": [
              "['language',\n",
              " 'is',\n",
              " 'never',\n",
              " ',',\n",
              " 'ever',\n",
              " ',',\n",
              " 'ever',\n",
              " ',',\n",
              " 'random',\n",
              " 'adam',\n",
              " 'kilgarriff',\n",
              " 'abstract',\n",
              " 'language',\n",
              " 'users',\n",
              " 'never',\n",
              " 'choose',\n",
              " 'words',\n",
              " 'randomly',\n",
              " ',',\n",
              " 'and',\n",
              " 'language',\n",
              " 'is',\n",
              " 'essentially',\n",
              " 'non-random',\n",
              " '.']"
            ]
          },
          "execution_count": 19,
          "metadata": {},
          "output_type": "execute_result"
        }
      ],
      "source": [
        "tokenized_text[0]"
      ]
    },
    {
      "cell_type": "code",
      "execution_count": null,
      "metadata": {
        "_uuid": "91c93337cfea53b0c15a6e8617395dab872fb140",
        "id": "tWpIS3nhZCZt",
        "outputId": "dc8569b5-e222-4c58-a834-ee904f3d8718"
      },
      "outputs": [
        {
          "name": "stdout",
          "output_type": "stream",
          "text": [
            "                       Language is never, ever, ever, random\n",
            "\n",
            "                                                               ADAM KILGARRIFF\n",
            "\n",
            "\n",
            "\n",
            "\n",
            "Abstract\n",
            "Language users never choose words randomly, and language is essentially\n",
            "non-random. Statistical hypothesis testing uses a null hypothesis, which\n",
            "posits randomness. Hence, when we look at linguistic phenomena in cor-\n",
            "pora, the null hypothesis will never be true. Moreover, where there is enough\n",
            "data, we shall (almost) always be able to establish \n"
          ]
        }
      ],
      "source": [
        "print(text[:500])"
      ]
    },
    {
      "cell_type": "code",
      "execution_count": null,
      "metadata": {
        "_uuid": "3eef00b8b1a95043e1c8bdd6912ae22060198e5c",
        "id": "xRGv7P48ZCZu"
      },
      "outputs": [],
      "source": [
        "# Preprocess the tokenized text for 3-grams language modelling\n",
        "n = 3\n",
        "train_data, padded_sents = padded_everygram_pipeline(n, tokenized_text)"
      ]
    },
    {
      "cell_type": "markdown",
      "metadata": {
        "_uuid": "32c5ad89e3e61b143e940d50a0d0ee602dadfe3f",
        "id": "MLZcxzoLZCZu"
      },
      "source": [
        "# Training an N-gram Model"
      ]
    },
    {
      "cell_type": "markdown",
      "metadata": {
        "_uuid": "ff1ff506e3a14df8283cb93b0a45f86862d3e3c7",
        "id": "tm78HRcyZCZu"
      },
      "source": [
        "Having prepared our data we are ready to start training a model. As a simple example, let us train a Maximum Likelihood Estimator (MLE).\n",
        "\n",
        "We only need to specify the highest ngram order to instantiate it."
      ]
    },
    {
      "cell_type": "code",
      "execution_count": null,
      "metadata": {
        "_uuid": "2635458b0f3fed618bfae6a0705ccb11555bfb0b",
        "id": "DjUWdMfjZCZu"
      },
      "outputs": [],
      "source": [
        "from nltk.lm import MLE\n",
        "model = MLE(n) # Lets train a 3-grams model, previously we set n=3"
      ]
    },
    {
      "cell_type": "markdown",
      "metadata": {
        "_uuid": "69cdd0e5babaf059a7b9bc87dc0a6e261cef6cb2",
        "id": "UEvJ_WsBZCZv"
      },
      "source": [
        "Initializing the MLE model, creates an empty vocabulary"
      ]
    },
    {
      "cell_type": "code",
      "execution_count": null,
      "metadata": {
        "_uuid": "93b95f89f020585dabfbcd6c41273c823a91e882",
        "id": "IwbZnL-ZZCZv",
        "outputId": "44a036e7-bfa7-44d9-e0bb-0ce9ebab4d0a"
      },
      "outputs": [
        {
          "data": {
            "text/plain": [
              "0"
            ]
          },
          "execution_count": 23,
          "metadata": {},
          "output_type": "execute_result"
        }
      ],
      "source": [
        "len(model.vocab)"
      ]
    },
    {
      "cell_type": "markdown",
      "metadata": {
        "_uuid": "fb567e332a0089c86e388a8c93f32d1a31737a29",
        "id": "wXYG5QB3ZCZw"
      },
      "source": [
        "... which gets filled as we fit the model."
      ]
    },
    {
      "cell_type": "code",
      "execution_count": null,
      "metadata": {
        "_uuid": "a31ecc7f6df30a42df9ed6a79039b50f734299cf",
        "id": "_Clsa-8VZCZw",
        "outputId": "d7f14bd6-e25a-457c-9053-3859cef50b16"
      },
      "outputs": [
        {
          "name": "stdout",
          "output_type": "stream",
          "text": [
            "<Vocabulary with cutoff=1 unk_label='<UNK>' and 1391 items>\n"
          ]
        }
      ],
      "source": [
        "model.fit(train_data, padded_sents)\n",
        "print(model.vocab)"
      ]
    },
    {
      "cell_type": "code",
      "execution_count": null,
      "metadata": {
        "_uuid": "6fd7e68c2cdacbe1901fd3b8c05c440706d19100",
        "id": "4c4DV4cxZCZx",
        "outputId": "1c884e96-78de-4b3a-fa5e-cbc7e459035b"
      },
      "outputs": [
        {
          "data": {
            "text/plain": [
              "1391"
            ]
          },
          "execution_count": 25,
          "metadata": {},
          "output_type": "execute_result"
        }
      ],
      "source": [
        "len(model.vocab)"
      ]
    },
    {
      "cell_type": "markdown",
      "metadata": {
        "_uuid": "74622c58a2df2ac08c8b0c79644d1f87f4014f44",
        "id": "9QMCnj9tZCZx"
      },
      "source": [
        "The vocabulary helps us handle words that have not occurred during training."
      ]
    },
    {
      "cell_type": "code",
      "execution_count": null,
      "metadata": {
        "_uuid": "e5670e34f9d1950f6a1515d57db18092d39484f2",
        "id": "Ms8RJv0cZCZy",
        "outputId": "aed27498-9ba9-42d5-d1f5-73cb34ab4f91"
      },
      "outputs": [
        {
          "name": "stdout",
          "output_type": "stream",
          "text": [
            "('language', 'is', 'never', ',', 'ever', ',', 'ever', ',', 'random', 'adam', 'kilgarriff', 'abstract', 'language', 'users', 'never', 'choose', 'words', 'randomly', ',', 'and', 'language', 'is', 'essentially', 'non-random', '.')\n"
          ]
        }
      ],
      "source": [
        "print(model.vocab.lookup(tokenized_text[0]))"
      ]
    },
    {
      "cell_type": "code",
      "execution_count": null,
      "metadata": {
        "_uuid": "cfec70768e8976073dda05f702f3f210a33dc1c3",
        "id": "8Ociq33SZCZy",
        "outputId": "6f897dca-ff65-4a3c-8a98-3f39081ea4ea"
      },
      "outputs": [
        {
          "name": "stdout",
          "output_type": "stream",
          "text": [
            "('language', 'is', 'never', 'random', '<UNK>', '.')\n"
          ]
        }
      ],
      "source": [
        "# If we lookup the vocab on unseen sentences not from the training data,\n",
        "# it automatically replace words not in the vocabulary with `<UNK>`.\n",
        "print(model.vocab.lookup('language is never random lah .'.split()))"
      ]
    },
    {
      "cell_type": "markdown",
      "metadata": {
        "_uuid": "83a71e4b25b53795dedce91c1a5686b7e22279e0",
        "id": "1qtOHzNFZCZz"
      },
      "source": [
        "Moreover, in some cases we want to ignore words that we did see during training but that didn't occur frequently enough, to provide us useful information.\n",
        "\n",
        "You can tell the vocabulary to ignore such words using the `unk_cutoff` argument for the vocabulary lookup, To find out how that works, check out the docs for the [`nltk.lm.vocabulary.Vocabulary` class](https://github.com/nltk/nltk/blob/develop/nltk/lm/vocabulary.py)"
      ]
    },
    {
      "cell_type": "markdown",
      "metadata": {
        "_uuid": "b0310a2f3c7d9e90f4574b44838336ca1e4ef2ef",
        "id": "1g5csuP0ZCZz"
      },
      "source": [
        "**Note:** For more sophisticated ngram models, take a look at [these objects from `nltk.lm.models`](https://github.com/nltk/nltk/blob/develop/nltk/lm/models.py):\n",
        "\n",
        " - `Lidstone`: Provides Lidstone-smoothed scores.\n",
        " - `Laplace`: Implements Laplace (add one) smoothing.\n",
        " - `InterpolatedLanguageModel`: Logic common to all interpolated language models (Chen & Goodman 1995).\n",
        " - `WittenBellInterpolated`: Interpolated version of Witten-Bell smoothing."
      ]
    },
    {
      "cell_type": "markdown",
      "metadata": {
        "_uuid": "af5a0851a2f8707ea2e172681342ed3ecd872328",
        "id": "IyMjCpS4ZCZz"
      },
      "source": [
        "# Using the N-gram Language Model"
      ]
    },
    {
      "cell_type": "markdown",
      "metadata": {
        "_uuid": "d098fd4686bcdc0ab9aa72dbbd4b62a17ee2c332",
        "id": "7GM-PNNAZCZ0"
      },
      "source": [
        "When it comes to ngram models the training boils down to counting up the ngrams from the training corpus."
      ]
    },
    {
      "cell_type": "code",
      "execution_count": null,
      "metadata": {
        "_uuid": "bfc60d61539269298390044c0d3415bfd28e2b1e",
        "id": "l8BPVV4KZCZ0",
        "outputId": "cad27c35-bcd3-49e3-d181-9445e575b656"
      },
      "outputs": [
        {
          "name": "stdout",
          "output_type": "stream",
          "text": [
            "<NgramCounter with 3 ngram orders and 19611 ngrams>\n"
          ]
        }
      ],
      "source": [
        "print(model.counts)"
      ]
    },
    {
      "cell_type": "markdown",
      "metadata": {
        "_uuid": "e9b8cac68de80aee9c7cf7b7f2faf2b199ad27cc",
        "id": "E_eIF3xHZCZ0"
      },
      "source": [
        "This provides a convenient interface to access counts for unigrams..."
      ]
    },
    {
      "cell_type": "code",
      "execution_count": null,
      "metadata": {
        "_uuid": "90f4611580c41118747a42cfac4c9d729f02523f",
        "id": "I1ivAsL-ZCZ0",
        "outputId": "2057d493-52c9-4efa-f4b6-8c6f2fdadf1d"
      },
      "outputs": [
        {
          "data": {
            "text/plain": [
              "25"
            ]
          },
          "execution_count": 29,
          "metadata": {},
          "output_type": "execute_result"
        }
      ],
      "source": [
        "model.counts['language'] # i.e. Count('language')"
      ]
    },
    {
      "cell_type": "markdown",
      "metadata": {
        "_uuid": "ccdf1bf83ba16f0a43f04eb96ca224a968cc81d2",
        "id": "v1QJIoPNZCZ0"
      },
      "source": [
        "...and bigrams for the phrase \"language is\""
      ]
    },
    {
      "cell_type": "code",
      "execution_count": null,
      "metadata": {
        "_uuid": "3ba55a83d7c052d1f14923c4046a5f6c86d72c8c",
        "id": "sVSaDbwtZCZ0",
        "outputId": "50e71745-cc0b-494c-a483-590840c90312"
      },
      "outputs": [
        {
          "data": {
            "text/plain": [
              "11"
            ]
          },
          "execution_count": 30,
          "metadata": {},
          "output_type": "execute_result"
        }
      ],
      "source": [
        "model.counts[['language']]['is'] # i.e. Count('is'|'language')"
      ]
    },
    {
      "cell_type": "markdown",
      "metadata": {
        "_uuid": "88bceda0a01e9f2642dd30a6b341c24a606720b9",
        "id": "jTgIzUNwZCZ1"
      },
      "source": [
        "... and trigrams for the phrase \"language is never\""
      ]
    },
    {
      "cell_type": "code",
      "execution_count": null,
      "metadata": {
        "_uuid": "813e30e1fb153002cfb020d430def2510bf43bbc",
        "id": "l1Uaq9mPZCZ1",
        "outputId": "6f324635-6ff6-49dd-ec35-e32bfb482ea1"
      },
      "outputs": [
        {
          "data": {
            "text/plain": [
              "7"
            ]
          },
          "execution_count": 31,
          "metadata": {},
          "output_type": "execute_result"
        }
      ],
      "source": [
        "model.counts[['language', 'is']]['never'] # i.e. Count('never'|'language is')"
      ]
    },
    {
      "cell_type": "markdown",
      "metadata": {
        "_uuid": "2c4338d351cfc3cd785673ad9581ecab161b24c6",
        "id": "jqroBfLyZCZ1"
      },
      "source": [
        "And so on. However, the real purpose of training a language model is to have it score how probable words are in certain contexts.\n",
        "\n",
        "This being MLE, the model returns the item's relative frequency as its score."
      ]
    },
    {
      "cell_type": "code",
      "execution_count": null,
      "metadata": {
        "_uuid": "051ef5a06c004a8e8ddb6168ca318bc8c0c9abf4",
        "id": "9ZzH2LMCZCZ1",
        "outputId": "74d541d9-d48d-402d-cdc7-ca0b89388d87"
      },
      "outputs": [
        {
          "data": {
            "text/plain": [
              "0.003691671588895452"
            ]
          },
          "execution_count": 32,
          "metadata": {},
          "output_type": "execute_result"
        }
      ],
      "source": [
        "model.score('language') # P('language')"
      ]
    },
    {
      "cell_type": "code",
      "execution_count": null,
      "metadata": {
        "_uuid": "ab3d48919b8f074342e624a1da441621829a4dbd",
        "id": "Pw8ClFp4ZCZ1",
        "outputId": "496be7d5-ea10-4b2e-c80c-87f96adc786d"
      },
      "outputs": [
        {
          "data": {
            "text/plain": [
              "0.44"
            ]
          },
          "execution_count": 33,
          "metadata": {},
          "output_type": "execute_result"
        }
      ],
      "source": [
        "model.score('is', 'language'.split())  # P('is'|'language')"
      ]
    },
    {
      "cell_type": "code",
      "execution_count": null,
      "metadata": {
        "_uuid": "73955908d499f459e19c2cbfaec7d94c513acb91",
        "id": "7EffVMZSZCZ1",
        "outputId": "a28c1461-2013-4639-8327-058edd9eafc0"
      },
      "outputs": [
        {
          "data": {
            "text/plain": [
              "0.6363636363636364"
            ]
          },
          "execution_count": 34,
          "metadata": {},
          "output_type": "execute_result"
        }
      ],
      "source": [
        "model.score('never', 'language is'.split())  # P('never'|'language is')"
      ]
    },
    {
      "cell_type": "markdown",
      "metadata": {
        "_uuid": "946dde75e8d5b8d8878271359b0d91926abeb199",
        "id": "9ZtJo4WyZCZ2"
      },
      "source": [
        "Items that are not seen during training are mapped to the vocabulary's \"unknown label\" token.  This is \"<UNK>\" by default.\n"
      ]
    },
    {
      "cell_type": "code",
      "execution_count": null,
      "metadata": {
        "_uuid": "44038e8cd8d078b734a6b1a803d0795517e2fa82",
        "id": "Njf_JCYVZCZ2",
        "outputId": "e99e977c-f0df-4bb3-d26e-b11433de5006"
      },
      "outputs": [
        {
          "data": {
            "text/plain": [
              "True"
            ]
          },
          "execution_count": 35,
          "metadata": {},
          "output_type": "execute_result"
        }
      ],
      "source": [
        "model.score(\"<UNK>\") == model.score(\"lah\")"
      ]
    },
    {
      "cell_type": "code",
      "execution_count": null,
      "metadata": {
        "_uuid": "f2f170a0bbca4b33b5eb1a55a55f0e1b1b18a634",
        "id": "2w7aBoVNZCZ2",
        "outputId": "d4768f20-1a5b-4c03-8c6e-ede47f14c62e"
      },
      "outputs": [
        {
          "data": {
            "text/plain": [
              "True"
            ]
          },
          "execution_count": 36,
          "metadata": {},
          "output_type": "execute_result"
        }
      ],
      "source": [
        "model.score(\"<UNK>\") == model.score(\"leh\")"
      ]
    },
    {
      "cell_type": "code",
      "execution_count": null,
      "metadata": {
        "_uuid": "9107d1a7c27f30a449e9f370002a6406d5a1396d",
        "id": "CMZRCQP_ZCZ2",
        "outputId": "02e76224-961e-401b-c28a-ad7275d244dc"
      },
      "outputs": [
        {
          "data": {
            "text/plain": [
              "True"
            ]
          },
          "execution_count": 37,
          "metadata": {},
          "output_type": "execute_result"
        }
      ],
      "source": [
        "model.score(\"<UNK>\") == model.score(\"lor\")"
      ]
    },
    {
      "cell_type": "markdown",
      "metadata": {
        "_uuid": "1a9ad0be90c72ece6c2a1c00314ea60f41a00f81",
        "id": "G_wbCOokZCZ2"
      },
      "source": [
        "To avoid underflow when working with many small score values it makes sense to take their logarithm.\n",
        "\n",
        "For convenience this can be done with the `logscore` method.\n"
      ]
    },
    {
      "cell_type": "code",
      "execution_count": null,
      "metadata": {
        "_uuid": "20ef81b7e161df3b9ab27236c33559713b3077ce",
        "id": "MGnOCogVZCZ2",
        "outputId": "a3d0f83f-e62b-4cec-9394-c17e71a5bb29"
      },
      "outputs": [
        {
          "data": {
            "text/plain": [
              "-0.6520766965796932"
            ]
          },
          "execution_count": 38,
          "metadata": {},
          "output_type": "execute_result"
        }
      ],
      "source": [
        "model.logscore(\"never\", \"language is\".split())"
      ]
    },
    {
      "cell_type": "markdown",
      "metadata": {
        "_uuid": "18f9e0a8d0aba302532b8a84f342d1bf4d3e202a",
        "id": "J-At895EZCZ2"
      },
      "source": [
        "# Generation using N-gram Language Model"
      ]
    },
    {
      "cell_type": "markdown",
      "metadata": {
        "_uuid": "f893159fe093aef484c07b37d922de4ac5727834",
        "id": "0dhFOt71ZCZ3"
      },
      "source": [
        "One cool feature of ngram models is that they can be used to generate text."
      ]
    },
    {
      "cell_type": "code",
      "execution_count": null,
      "metadata": {
        "_uuid": "98989ec4bae592fc98332e759daf9e42bac4213e",
        "id": "3t04ml2CZCZ3",
        "outputId": "bde66b97-8b46-49ff-f093-066cb7e3dd47"
      },
      "outputs": [
        {
          "name": "stdout",
          "output_type": "stream",
          "text": [
            "['and', 'hence', ',', 'when', 'we', 'look', 'at', 'linguistic', 'phenom-', 'ena', 'in', 'corpora', ',', '216⫺223', '.', '</s>', '</s>', '</s>', '</s>', '</s>']\n"
          ]
        }
      ],
      "source": [
        "print(model.generate(20, random_seed=7))"
      ]
    },
    {
      "cell_type": "markdown",
      "metadata": {
        "_uuid": "3b8d07eaf3afae978131573ae127fa0ec3f2e50d",
        "id": "ETK9XJ4EZCZ3"
      },
      "source": [
        "We can do some cleaning to the generated tokens to make it human-like."
      ]
    },
    {
      "cell_type": "code",
      "execution_count": null,
      "metadata": {
        "_uuid": "73d0d5e0029e64876100e0f2e368b4835a99efcd",
        "id": "IjGHT_ukZCZ3"
      },
      "outputs": [],
      "source": [
        "from nltk.tokenize.treebank import TreebankWordDetokenizer\n",
        "\n",
        "detokenize = TreebankWordDetokenizer().detokenize\n",
        "\n",
        "def generate_sent(model, num_words, random_seed=42):\n",
        "    \"\"\"\n",
        "    :param model: An ngram language model from `nltk.lm.model`.\n",
        "    :param num_words: Max no. of words to generate.\n",
        "    :param random_seed: Seed value for random.\n",
        "    \"\"\"\n",
        "    content = []\n",
        "    for token in model.generate(num_words, random_seed=random_seed):\n",
        "        if token == '<s>':\n",
        "            continue\n",
        "        if token == '</s>':\n",
        "            break\n",
        "        content.append(token)\n",
        "    return detokenize(content)"
      ]
    },
    {
      "cell_type": "code",
      "execution_count": null,
      "metadata": {
        "_uuid": "949378240cbc8247579b79946b113a3afd039b39",
        "id": "xSiT1k7_ZCZ3",
        "outputId": "09c3cf02-15cf-41aa-c90c-d405c83114af"
      },
      "outputs": [
        {
          "data": {
            "text/plain": [
              "'and hence, when we look at linguistic phenom- ena in corpora , 216⫺223.'"
            ]
          },
          "execution_count": 41,
          "metadata": {},
          "output_type": "execute_result"
        }
      ],
      "source": [
        "generate_sent(model, 20, random_seed=7)"
      ]
    },
    {
      "cell_type": "code",
      "execution_count": null,
      "metadata": {
        "_uuid": "9041c514e0458236132fe9b3c42ac2ce651beb92",
        "id": "7E3odAOGZCZ3",
        "outputId": "e44ba043-73ad-4bb8-9b2a-c35bddee1e88"
      },
      "outputs": [
        {
          "name": "stdout",
          "output_type": "stream",
          "text": [
            "['the', 'trouble', 'with', 'quantitative', 'studies', '.', '</s>', '</s>', '</s>', '</s>', '</s>', '</s>', '</s>', '</s>', '</s>', '</s>', '</s>', '</s>', '</s>', '</s>', '</s>', '</s>', '</s>', '</s>', '</s>', '</s>', '</s>', '</s>']\n"
          ]
        }
      ],
      "source": [
        "print(model.generate(28, random_seed=0))"
      ]
    },
    {
      "cell_type": "code",
      "execution_count": null,
      "metadata": {
        "_uuid": "523e7c2373f6a4c4b6a542f1e82369fedb6cbd21",
        "id": "koTQGvrmZCZ3",
        "outputId": "56a13e1a-79c0-410b-dbaf-09692cd92801"
      },
      "outputs": [
        {
          "data": {
            "text/plain": [
              "'the trouble with quantitative studies.'"
            ]
          },
          "execution_count": 43,
          "metadata": {},
          "output_type": "execute_result"
        }
      ],
      "source": [
        "generate_sent(model, 28, random_seed=0)"
      ]
    },
    {
      "cell_type": "code",
      "execution_count": null,
      "metadata": {
        "_uuid": "bce2885bd22d0bb1f79c3861f10fde7df6714e40",
        "id": "Y_vEm8_CZCZ4",
        "outputId": "301c261e-62ef-42cf-8855-565d5db9db8a"
      },
      "outputs": [
        {
          "data": {
            "text/plain": [
              "'237⫺246.'"
            ]
          },
          "execution_count": 44,
          "metadata": {},
          "output_type": "execute_result"
        }
      ],
      "source": [
        "generate_sent(model, 20, random_seed=1)"
      ]
    },
    {
      "cell_type": "code",
      "execution_count": null,
      "metadata": {
        "_uuid": "90ddb0e7d0fb52bc77d08425331944c55ee0885e",
        "id": "W3FXoFgcZCZ4",
        "outputId": "fc30ffd8-9085-41ba-8e26-86aa7f0aba79"
      },
      "outputs": [
        {
          "data": {
            "text/plain": [
              "'hypothesis test- ing has been used in the joint conference on empirical methods in nlp and very large corpora although'"
            ]
          },
          "execution_count": 45,
          "metadata": {},
          "output_type": "execute_result"
        }
      ],
      "source": [
        "generate_sent(model, 20, random_seed=30)"
      ]
    },
    {
      "cell_type": "code",
      "execution_count": null,
      "metadata": {
        "_uuid": "ba9546c6800d9e0b0f0af4f0fd31a141af93b12f",
        "id": "S1qMVXnAZCZ4",
        "outputId": "59ca0a05-2388-4034-b32f-5da9dd68b4d8"
      },
      "outputs": [
        {
          "data": {
            "text/plain": [
              "'more common or more salient in the last paragraph is ‘ indistinguishable ’.'"
            ]
          },
          "execution_count": 46,
          "metadata": {},
          "output_type": "execute_result"
        }
      ],
      "source": [
        "generate_sent(model, 20, random_seed=42)"
      ]
    },
    {
      "cell_type": "markdown",
      "metadata": {
        "id": "jcEI0vk9ZCZ4"
      },
      "source": [
        "# Saving the model\n",
        "\n",
        "The native Python's pickle may not save the lambda functions in the  model, so we can use the `dill` library in place of pickle to save and load the language model.\n"
      ]
    },
    {
      "cell_type": "code",
      "execution_count": null,
      "metadata": {
        "id": "YrViabd4ZCZ4"
      },
      "outputs": [],
      "source": [
        "import dill as pickle\n",
        "\n",
        "with open('kilgariff_ngram_model.pkl', 'wb') as fout:\n",
        "    pickle.dump(model, fout)"
      ]
    },
    {
      "cell_type": "code",
      "execution_count": null,
      "metadata": {
        "id": "5380nFHkZCZ4"
      },
      "outputs": [],
      "source": [
        "with open('kilgariff_ngram_model.pkl', 'rb') as fin:\n",
        "    model_loaded = pickle.load(fin)"
      ]
    },
    {
      "cell_type": "code",
      "execution_count": null,
      "metadata": {
        "id": "LZYPnx1KZCZ4",
        "outputId": "0e28c968-a742-46ab-953f-87deee002c33"
      },
      "outputs": [
        {
          "data": {
            "text/plain": [
              "'more common or more salient in the last paragraph is ‘ indistinguishable ’.'"
            ]
          },
          "execution_count": 49,
          "metadata": {},
          "output_type": "execute_result"
        }
      ],
      "source": [
        "generate_sent(model_loaded, 20, random_seed=42)"
      ]
    },
    {
      "cell_type": "markdown",
      "metadata": {
        "_uuid": "e4f13ed7359c87e397229104c1bcf18eb20603ad",
        "id": "WuQO68l8ZCZ5"
      },
      "source": [
        "# Lets try some generating with Donald Trump data!!!\n",
        "\n",
        "\n",
        "**Dataset:** https://www.kaggle.com/kingburrito666/better-donald-trump-tweets#Donald-Tweets!.csv\n",
        "\n",
        "\n",
        "In this part, I'll be munging that data as how I would be doing it at work.\n",
        "I've really no seen the data before but I hope this session would be helpful for you to see how to approach new datasets with the skills you have."
      ]
    },
    {
      "cell_type": "code",
      "execution_count": null,
      "metadata": {
        "_uuid": "caf5fea33f84e06c3cf613136ec33f80e774fc98",
        "id": "fzpUxX9MZCZ5",
        "outputId": "9774e783-8d5b-41c8-e6e2-563aae9e3871"
      },
      "outputs": [
        {
          "data": {
            "text/html": [
              "<div>\n",
              "<style scoped>\n",
              "    .dataframe tbody tr th:only-of-type {\n",
              "        vertical-align: middle;\n",
              "    }\n",
              "\n",
              "    .dataframe tbody tr th {\n",
              "        vertical-align: top;\n",
              "    }\n",
              "\n",
              "    .dataframe thead th {\n",
              "        text-align: right;\n",
              "    }\n",
              "</style>\n",
              "<table border=\"1\" class=\"dataframe\">\n",
              "  <thead>\n",
              "    <tr style=\"text-align: right;\">\n",
              "      <th></th>\n",
              "      <th>Date</th>\n",
              "      <th>Time</th>\n",
              "      <th>Tweet_Text</th>\n",
              "      <th>Type</th>\n",
              "      <th>Media_Type</th>\n",
              "      <th>Hashtags</th>\n",
              "      <th>Tweet_Id</th>\n",
              "      <th>Tweet_Url</th>\n",
              "      <th>twt_favourites_IS_THIS_LIKE_QUESTION_MARK</th>\n",
              "      <th>Retweets</th>\n",
              "      <th>Unnamed: 10</th>\n",
              "      <th>Unnamed: 11</th>\n",
              "    </tr>\n",
              "  </thead>\n",
              "  <tbody>\n",
              "    <tr>\n",
              "      <th>0</th>\n",
              "      <td>16-11-11</td>\n",
              "      <td>15:26:37</td>\n",
              "      <td>Today we express our deepest gratitude to all ...</td>\n",
              "      <td>text</td>\n",
              "      <td>photo</td>\n",
              "      <td>ThankAVet</td>\n",
              "      <td>7.970000e+17</td>\n",
              "      <td>https://twitter.com/realDonaldTrump/status/797...</td>\n",
              "      <td>127213</td>\n",
              "      <td>41112</td>\n",
              "      <td>NaN</td>\n",
              "      <td>NaN</td>\n",
              "    </tr>\n",
              "    <tr>\n",
              "      <th>1</th>\n",
              "      <td>16-11-11</td>\n",
              "      <td>13:33:35</td>\n",
              "      <td>Busy day planned in New York. Will soon be mak...</td>\n",
              "      <td>text</td>\n",
              "      <td>NaN</td>\n",
              "      <td>NaN</td>\n",
              "      <td>7.970000e+17</td>\n",
              "      <td>https://twitter.com/realDonaldTrump/status/797...</td>\n",
              "      <td>141527</td>\n",
              "      <td>28654</td>\n",
              "      <td>NaN</td>\n",
              "      <td>NaN</td>\n",
              "    </tr>\n",
              "    <tr>\n",
              "      <th>2</th>\n",
              "      <td>16-11-11</td>\n",
              "      <td>11:14:20</td>\n",
              "      <td>Love the fact that the small groups of protest...</td>\n",
              "      <td>text</td>\n",
              "      <td>NaN</td>\n",
              "      <td>NaN</td>\n",
              "      <td>7.970000e+17</td>\n",
              "      <td>https://twitter.com/realDonaldTrump/status/797...</td>\n",
              "      <td>183729</td>\n",
              "      <td>50039</td>\n",
              "      <td>NaN</td>\n",
              "      <td>NaN</td>\n",
              "    </tr>\n",
              "    <tr>\n",
              "      <th>3</th>\n",
              "      <td>16-11-11</td>\n",
              "      <td>2:19:44</td>\n",
              "      <td>Just had a very open and successful presidenti...</td>\n",
              "      <td>text</td>\n",
              "      <td>NaN</td>\n",
              "      <td>NaN</td>\n",
              "      <td>7.970000e+17</td>\n",
              "      <td>https://twitter.com/realDonaldTrump/status/796...</td>\n",
              "      <td>214001</td>\n",
              "      <td>67010</td>\n",
              "      <td>NaN</td>\n",
              "      <td>NaN</td>\n",
              "    </tr>\n",
              "    <tr>\n",
              "      <th>4</th>\n",
              "      <td>16-11-11</td>\n",
              "      <td>2:10:46</td>\n",
              "      <td>A fantastic day in D.C. Met with President Oba...</td>\n",
              "      <td>text</td>\n",
              "      <td>NaN</td>\n",
              "      <td>NaN</td>\n",
              "      <td>7.970000e+17</td>\n",
              "      <td>https://twitter.com/realDonaldTrump/status/796...</td>\n",
              "      <td>178499</td>\n",
              "      <td>36688</td>\n",
              "      <td>NaN</td>\n",
              "      <td>NaN</td>\n",
              "    </tr>\n",
              "  </tbody>\n",
              "</table>\n",
              "</div>"
            ],
            "text/plain": [
              "       Date      Time     ...     Unnamed: 10 Unnamed: 11\n",
              "0  16-11-11  15:26:37     ...             NaN         NaN\n",
              "1  16-11-11  13:33:35     ...             NaN         NaN\n",
              "2  16-11-11  11:14:20     ...             NaN         NaN\n",
              "3  16-11-11   2:19:44     ...             NaN         NaN\n",
              "4  16-11-11   2:10:46     ...             NaN         NaN\n",
              "\n",
              "[5 rows x 12 columns]"
            ]
          },
          "execution_count": 50,
          "metadata": {},
          "output_type": "execute_result"
        }
      ],
      "source": [
        "import pandas as pd\n",
        "df = pd.read_csv('../input/Donald-Tweets!.csv')\n",
        "df.head()"
      ]
    },
    {
      "cell_type": "code",
      "execution_count": null,
      "metadata": {
        "_uuid": "a15d9d1a754ca357ae79e8390069b08b05320458",
        "id": "TfEzc74NZCZ5"
      },
      "outputs": [],
      "source": [
        "trump_corpus = list(df['Tweet_Text'].apply(word_tokenize))"
      ]
    },
    {
      "cell_type": "code",
      "execution_count": null,
      "metadata": {
        "_uuid": "8724b8724cc52b685205047bd1fda649545a6a24",
        "id": "uv2jBoGTZCZ5"
      },
      "outputs": [],
      "source": [
        "# Preprocess the tokenized text for 3-grams language modelling\n",
        "n = 3\n",
        "train_data, padded_sents = padded_everygram_pipeline(n, trump_corpus)"
      ]
    },
    {
      "cell_type": "code",
      "execution_count": null,
      "metadata": {
        "_uuid": "c5010b607062f6f2dd0ccf011bb9004e1e3dcee7",
        "id": "4_3GWdfFZCZ5"
      },
      "outputs": [],
      "source": [
        "from nltk.lm import MLE\n",
        "trump_model = MLE(n) # Lets train a 3-grams model, previously we set n=3\n",
        "trump_model.fit(train_data, padded_sents)"
      ]
    },
    {
      "cell_type": "code",
      "execution_count": null,
      "metadata": {
        "_uuid": "8036f1ae5e0e1438d1d2981026766cdacd4479aa",
        "id": "7OU2bCp0ZCZ5",
        "outputId": "f34d2401-93ba-49c1-9e0e-d7d83c69ff40"
      },
      "outputs": [
        {
          "data": {
            "text/plain": [
              "'call list for my press conference on taxes at 11AM at @ TwitterNYC http: //t.co/h4UOeJFW92'"
            ]
          },
          "execution_count": 54,
          "metadata": {},
          "output_type": "execute_result"
        }
      ],
      "source": [
        "generate_sent(trump_model, num_words=20, random_seed=42)"
      ]
    },
    {
      "cell_type": "code",
      "execution_count": null,
      "metadata": {
        "_uuid": "defe4e4899cb14300710eb0c7786a6f2e894455d",
        "id": "w_QqmHALZCZ5",
        "outputId": "62c1b757-3106-4f6a-c62a-d08023b24ac5"
      },
      "outputs": [
        {
          "data": {
            "text/plain": [
              "'picked up the mess the U.S. is looking very bad'"
            ]
          },
          "execution_count": 55,
          "metadata": {},
          "output_type": "execute_result"
        }
      ],
      "source": [
        "generate_sent(trump_model, num_words=10, random_seed=0)"
      ]
    },
    {
      "cell_type": "code",
      "execution_count": null,
      "metadata": {
        "_uuid": "eba7934efa5a5e6b818e951c5daec9e9f621ca26",
        "id": "Vh87p53tZCZ5",
        "outputId": "dfd6736a-073e-48d9-b80c-81efd918f308"
      },
      "outputs": [
        {
          "data": {
            "text/plain": [
              "'\\\\\" @ about_life: @ realDonaldTrump Trumps new VA plan will help the veterans like no one is even higher than anticipated in radical Islamic terrorism, as her running mate @ realDonaldTrump Trumps new VA plan will help the veterans like no one is even higher than anticipated in'"
            ]
          },
          "execution_count": 56,
          "metadata": {},
          "output_type": "execute_result"
        }
      ],
      "source": [
        "generate_sent(trump_model, num_words=50, random_seed=10)"
      ]
    },
    {
      "cell_type": "code",
      "execution_count": null,
      "metadata": {
        "_uuid": "3ec48d8d44b2f57b16249e12b845f43f52faadca",
        "id": "8GYA9epZZCZ5",
        "outputId": "b5a94ba5-6816-44a6-b6ac-068a4aadf565"
      },
      "outputs": [
        {
          "name": "stdout",
          "output_type": "stream",
          "text": [
            "will win this thing! GET OUT TO VOTE Then``WE THE PEOPLE love you trump\"Nice\n"
          ]
        }
      ],
      "source": [
        "print(generate_sent(trump_model, num_words=100, random_seed=52))"
      ]
    },
    {
      "cell_type": "code",
      "execution_count": null,
      "metadata": {
        "_uuid": "2567d003d69c26233b915df03509b3fd014beed4",
        "id": "ffvRuQ5WZCZ6"
      },
      "outputs": [],
      "source": []
    }
  ],
  "metadata": {
    "kernelspec": {
      "display_name": "Python 3",
      "language": "python",
      "name": "python3"
    },
    "language_info": {
      "codemirror_mode": {
        "name": "ipython",
        "version": 3
      },
      "file_extension": ".py",
      "mimetype": "text/x-python",
      "name": "python",
      "nbconvert_exporter": "python",
      "pygments_lexer": "ipython3",
      "version": "3.6.6"
    },
    "colab": {
      "provenance": []
    }
  },
  "nbformat": 4,
  "nbformat_minor": 0
}