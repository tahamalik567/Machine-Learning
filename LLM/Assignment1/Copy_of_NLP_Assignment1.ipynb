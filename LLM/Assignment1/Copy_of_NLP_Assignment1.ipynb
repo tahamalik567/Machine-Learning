{
  "nbformat": 4,
  "nbformat_minor": 0,
  "metadata": {
    "colab": {
      "provenance": []
    },
    "kernelspec": {
      "name": "python3",
      "display_name": "Python 3"
    },
    "language_info": {
      "name": "python"
    }
  },
  "cells": [
    {
      "cell_type": "code",
      "source": [
        "import re\n"
      ],
      "metadata": {
        "id": "V1uNJQ4H0G96"
      },
      "execution_count": null,
      "outputs": []
    },
    {
      "cell_type": "markdown",
      "source": [
        "Write a regular expression function for the following. By “word”, we mean an alphabetic string separated from other words by whitespace, any relevant punctuation, line breaks, and so forth.\n",
        "\n"
      ],
      "metadata": {
        "id": "-GDKoND-xl8H"
      }
    },
    {
      "cell_type": "code",
      "source": [
        "# the set of all strings with two consecutive repeated words (e.g., “Humbert Humbert” and “the the” but not “the bug” or “the big bug”);\n",
        "def find_consecutive_repeated_words(text):\n",
        "    pattern = r'\\b(\\w+)\\s+\\1\\b'\n",
        "    return re.findall(pattern, text)\n",
        "text = \"Humbert Humbert said the the quick brown fox jumps over the lazy dog dog the bug bug bug.\"\n",
        "result = find_consecutive_repeated_words(text)\n",
        "print(result)"
      ],
      "metadata": {
        "colab": {
          "base_uri": "https://localhost:8080/"
        },
        "id": "PxjyHEq7xnhO",
        "outputId": "b5510f5e-ac5f-460b-ff3b-b703a2be4c62"
      },
      "execution_count": null,
      "outputs": [
        {
          "output_type": "stream",
          "name": "stdout",
          "text": [
            "['Humbert', 'the', 'dog', 'bug']\n"
          ]
        }
      ]
    },
    {
      "cell_type": "code",
      "source": [
        "# 2. all strings that start at the beginning of the line with an integer and that end at the end of the line with a word;\n",
        "def match_integer_start_word_end(text):\n",
        "    pattern = r'^\\d+.*\\b[a-zA-Z]+$'\n",
        "    return re.findall(pattern, text, re.MULTILINE)\n",
        "text = \"\"\"123 start with number end with word\n",
        "456 this also works\n",
        "not this one\n",
        "789 this works too\n",
        "10 x\"\"\"\n",
        "\n",
        "result = match_integer_start_word_end(text)\n",
        "print(result)\n"
      ],
      "metadata": {
        "colab": {
          "base_uri": "https://localhost:8080/"
        },
        "id": "f0fJBe5y1nAi",
        "outputId": "815cc306-767d-41be-b548-0653f5b2d9e3"
      },
      "execution_count": null,
      "outputs": [
        {
          "output_type": "stream",
          "name": "stdout",
          "text": [
            "['123 start with number end with word', '456 this also works', '789 this works too', '10 x']\n"
          ]
        }
      ]
    },
    {
      "cell_type": "code",
      "source": [
        "# 3. all strings that have both the word grotto and the word raven in them (but not, e.g., words like grottos that merely contain the word grotto);\n",
        "def match_grotto_and_raven(text):\n",
        "    pattern = r'\\b(?=.*\\bgrotto\\b)(?=.*\\braven\\b).*'\n",
        "    return re.findall(pattern, text, re.IGNORECASE)\n",
        "text = \"\"\"\n",
        "The grotto was dark and mysterious.\n",
        "Ravens are intelligent birds.\n",
        "The raven perched near the entrance of the grotto.\n",
        "He explored grottos and saw many ravens.\n",
        "The grottos were full of ravens.\n",
        "\"\"\"\n",
        "\n",
        "result = match_grotto_and_raven(text)\n",
        "print(result)"
      ],
      "metadata": {
        "colab": {
          "base_uri": "https://localhost:8080/"
        },
        "id": "bM0p41rV5MG0",
        "outputId": "6de4b51a-7f3c-437f-a89b-adc423231db9"
      },
      "execution_count": null,
      "outputs": [
        {
          "output_type": "stream",
          "name": "stdout",
          "text": [
            "['The raven perched near the entrance of the grotto.']\n"
          ]
        }
      ]
    },
    {
      "cell_type": "code",
      "source": [
        "# 4. Demonstrate a pattern to check if the email address is valid.\n",
        "def is_valid_email(email):\n",
        "    pattern = r'^[a-zA-Z0-9._%+-]+@[a-zA-Z0-9.-]+\\.[a-zA-Z]{2,}$'\n",
        "    return bool(re.match(pattern, email))\n",
        "emails = [\n",
        "    \"user@example.com\",\n",
        "    \"user.name+tag@example.co.uk\",\n",
        "    \"invalid.email@\",\n",
        "    \"@invalid.com\",\n",
        "    \"user@invalid.\",\n",
        "    \"user@.com\"\n",
        "]\n",
        "\n",
        "for email in emails:\n",
        "    print(f\"{email}: {is_valid_email(email)}\")"
      ],
      "metadata": {
        "colab": {
          "base_uri": "https://localhost:8080/"
        },
        "id": "AtevHdD06okY",
        "outputId": "b21b7faf-75ec-4f56-ccc3-57bc0ad07d05"
      },
      "execution_count": null,
      "outputs": [
        {
          "output_type": "stream",
          "name": "stdout",
          "text": [
            "user@example.com: True\n",
            "user.name+tag@example.co.uk: True\n",
            "invalid.email@: False\n",
            "@invalid.com: False\n",
            "user@invalid.: False\n",
            "user@.com: False\n"
          ]
        }
      ]
    },
    {
      "cell_type": "code",
      "source": [
        "# 5. Write a function to verify the validity of a phone number, and check if it belongs to the Pakistani Mobile Network.\n",
        "def is_valid_pakistani_mobile(phone_number):\n",
        "    # Remove any spaces or dashes from the phone number\n",
        "    phone_number = re.sub(r'[\\s-]', '', phone_number)\n",
        "\n",
        "    # Pattern for Pakistani mobile numbers\n",
        "    pattern = r'^(?:\\+92|0)?(3\\d{2})(\\d{7})$'\n",
        "\n",
        "    match = re.match(pattern, phone_number)\n",
        "\n",
        "    if match:\n",
        "        network_code = match.group(1)\n",
        "        # Check if the network code is valid\n",
        "        valid_codes = ['300', '301', '302', '303', '304', '305', '306', '307', '308', '309',\n",
        "                       '310', '311', '312', '313', '314', '315', '316', '317', '318', '319',\n",
        "                       '320', '321', '322', '323', '324', '325', '326', '327', '328', '329',\n",
        "                       '330', '331', '332', '333', '334', '335', '336', '337', '338', '339',\n",
        "                       '340', '341', '342', '343', '344', '345', '346', '347', '348', '349',\n",
        "                       '350', '351', '352', '353', '354', '355', '356', '357', '358', '359']\n",
        "\n",
        "        if network_code in valid_codes:\n",
        "            return True\n",
        "\n",
        "    return False\n",
        "phone_numbers = [\n",
        "    \"+923001234567\",\n",
        "    \"03001234567\",\n",
        "    \"+92 300 1234567\",\n",
        "    \"0300-123-4567\",\n",
        "    \"+923991234567\",  # Invalid network code\n",
        "    \"03001234\",  # Too short\n",
        "    \"1234567890\"  # Not starting with 3\n",
        "]\n",
        "\n",
        "for number in phone_numbers:\n",
        "    print(f\"{number}: {is_valid_pakistani_mobile(number)}\")"
      ],
      "metadata": {
        "colab": {
          "base_uri": "https://localhost:8080/"
        },
        "id": "1kC7R_mX7bZA",
        "outputId": "d71fe31c-93d3-4334-f3c1-a118d3795fd3"
      },
      "execution_count": null,
      "outputs": [
        {
          "output_type": "stream",
          "name": "stdout",
          "text": [
            "+923001234567: True\n",
            "03001234567: True\n",
            "+92 300 1234567: True\n",
            "0300-123-4567: True\n",
            "+923991234567: False\n",
            "03001234: False\n",
            "1234567890: False\n"
          ]
        }
      ]
    },
    {
      "cell_type": "code",
      "source": [
        "# 6. Write a function to remove symbols and non-alphanumeric characters from the string paragraph.\n",
        "def remove_non_alphanumeric(paragraph):\n",
        "    # Use regex to keep only alphanumeric characters and whitespace\n",
        "    cleaned_paragraph = re.sub(r'[^a-zA-Z0-9\\s]', '', paragraph)\n",
        "    return cleaned_paragraph\n",
        "paragraph = \"Hello, World! This is a test paragraph. It contains some numbers (123) and symbols @#$%^&*.\"\n",
        "\n",
        "cleaned_paragraph = remove_non_alphanumeric(paragraph)\n",
        "print(cleaned_paragraph)\n"
      ],
      "metadata": {
        "colab": {
          "base_uri": "https://localhost:8080/"
        },
        "id": "KBRkNIbh7bcI",
        "outputId": "297f6c66-a809-4613-880a-147c89aee96b"
      },
      "execution_count": null,
      "outputs": [
        {
          "output_type": "stream",
          "name": "stdout",
          "text": [
            "Hello World This is a test paragraph It contains some numbers 123 and symbols \n"
          ]
        }
      ]
    },
    {
      "cell_type": "code",
      "source": [
        "# Write a function to remove URLs and HTML tags from the text string.\n",
        "def remove_urls_and_html_tags(text):\n",
        "    # Remove URLs\n",
        "    text = re.sub(r'http[s]?://(?:[a-zA-Z]|[0-9]|[$-_@.&+]|[!*\\\\(\\\\),]|(?:%[0-9a-fA-F][0-9a-fA-F]))+', '', text)\n",
        "    # Remove HTML tags\n",
        "    text = re.sub(r'<[^>]+>', '', text)\n",
        "    return text\n",
        "\n",
        "# Test\n",
        "text = \"Check out this link: https://example.com and <b>this bold text</b>\"\n",
        "print(remove_urls_and_html_tags(text))"
      ],
      "metadata": {
        "colab": {
          "base_uri": "https://localhost:8080/"
        },
        "id": "z-nLXohv7bet",
        "outputId": "b01c2874-a18b-49e7-d2fe-0f13796bfef0"
      },
      "execution_count": null,
      "outputs": [
        {
          "output_type": "stream",
          "name": "stdout",
          "text": [
            "Check out this link:  and this bold text\n"
          ]
        }
      ]
    },
    {
      "cell_type": "code",
      "source": [
        "# 8. Write a function find_acronyms that takes a string of text and returns a list of acronyms\n",
        "# found in the text. Assume acronyms are in uppercase letters.\n",
        "def find_acronyms(text):\n",
        "    return re.findall(r'\\b[A-Z]{2,}\\b', text)\n",
        "\n",
        "# Test\n",
        "text = \"The FBI and CIA are both (Three Letter Acronyms).\"\n",
        "print(find_acronyms(text))"
      ],
      "metadata": {
        "colab": {
          "base_uri": "https://localhost:8080/"
        },
        "id": "D9AN55Xp7bhl",
        "outputId": "f29e4da1-a7f2-490d-b964-4b9cd469647e"
      },
      "execution_count": null,
      "outputs": [
        {
          "output_type": "stream",
          "name": "stdout",
          "text": [
            "['FBI', 'CIA']\n"
          ]
        }
      ]
    },
    {
      "cell_type": "code",
      "source": [
        "# 9. Write a function mask_sensitive_info that takes a string of text and masks sensitive\n",
        "# information such as phone numbers (in the format XXX-XXX-XXXX).\n",
        "def mask_sensitive_info(text):\n",
        "    # Mask phone numbers in format XXX-XXX-XXXX\n",
        "    return re.sub(r'\\b\\d{3}-\\d{3}-\\d{4}\\b', 'XXX-XXX-XXXX', text)\n",
        "\n",
        "# Test\n",
        "text = \"My phone number is 123-456-7890 and my friend's is 987-654-3210.\"\n",
        "print(mask_sensitive_info(text))"
      ],
      "metadata": {
        "colab": {
          "base_uri": "https://localhost:8080/"
        },
        "id": "OpXnc92w7bkb",
        "outputId": "67e4fd8f-3de9-4bbd-cfaa-306c2d0a744f"
      },
      "execution_count": null,
      "outputs": [
        {
          "output_type": "stream",
          "name": "stdout",
          "text": [
            "My phone number is XXX-XXX-XXXX and my friend's is XXX-XXX-XXXX.\n"
          ]
        }
      ]
    },
    {
      "cell_type": "code",
      "source": [
        "# 10. Write a function extract_dates that takes a string of text and returns a list of dates in\n",
        "# various formats (e.g., DD-MM-YYYY, MM/DD/YYYY).\n",
        "def extract_dates(text):\n",
        "    date_patterns = [\n",
        "        r'\\d{2}-\\d{2}-\\d{4}',  # DD-MM-YYYY\n",
        "        r'\\d{2}/\\d{2}/\\d{4}',  # MM/DD/YYYY\n",
        "        r'\\d{4}-\\d{2}-\\d{2}'   # YYYY-MM-DD\n",
        "    ]\n",
        "    dates = []\n",
        "    for pattern in date_patterns:\n",
        "        dates.extend(re.findall(pattern, text))\n",
        "    return dates\n",
        "\n",
        "# Test\n",
        "text = \"Important dates: 15-03-2023, 04/25/2023, and 2023-06-30.\"\n",
        "print(extract_dates(text))"
      ],
      "metadata": {
        "colab": {
          "base_uri": "https://localhost:8080/"
        },
        "id": "Mge50zCY7bnC",
        "outputId": "eb1b1a43-530a-4c2e-838f-40032891eec3"
      },
      "execution_count": null,
      "outputs": [
        {
          "output_type": "stream",
          "name": "stdout",
          "text": [
            "['15-03-2023', '04/25/2023', '2023-06-30']\n"
          ]
        }
      ]
    },
    {
      "cell_type": "code",
      "source": [
        "# 11. Write a function extract_currency_amounts that takes a string of text and returns a list of\n",
        "# currency amounts (e.g., $100.00, €50).\n",
        "def extract_currency_amounts(text):\n",
        "    return re.findall(r'[$€£¥]\\d+(?:\\.\\d{2})?', text)\n",
        "\n",
        "# Test\n",
        "text = \"The items cost $15.99, €20, £7.50, and ¥1000.\"\n",
        "print(extract_currency_amounts(text))"
      ],
      "metadata": {
        "colab": {
          "base_uri": "https://localhost:8080/"
        },
        "id": "PMwhIuozGfad",
        "outputId": "b9a53f91-1453-4de5-f6a5-88d2b2607775"
      },
      "execution_count": null,
      "outputs": [
        {
          "output_type": "stream",
          "name": "stdout",
          "text": [
            "['$15.99', '€20', '£7.50', '¥1000']\n"
          ]
        }
      ]
    },
    {
      "cell_type": "code",
      "source": [
        "# 12. Write a function find_capitalized_words that takes a string of text and returns a list of\n",
        "# capitalized words.\n",
        "def find_capitalized_words(text):\n",
        "    return re.findall(r'\\b[A-Z][a-z]*\\b', text)\n",
        "\n",
        "# Test\n",
        "text = \"The Quick Brown Fox Jumps Over the Lazy Dog.\"\n",
        "print(find_capitalized_words(text))"
      ],
      "metadata": {
        "colab": {
          "base_uri": "https://localhost:8080/"
        },
        "id": "5vTCfWTfGfdf",
        "outputId": "f7fe0034-9f2e-48e9-8e23-bc22195ac9c5"
      },
      "execution_count": null,
      "outputs": [
        {
          "output_type": "stream",
          "name": "stdout",
          "text": [
            "['The', 'Quick', 'Brown', 'Fox', 'Jumps', 'Over', 'Lazy', 'Dog']\n"
          ]
        }
      ]
    },
    {
      "cell_type": "code",
      "source": [
        "# Write a function find_repeated_words that takes a string of text and returns a list of words\n",
        "# that are repeated consecutively.\n",
        "def find_repeated_words(text):\n",
        "    return re.findall(r'\\b(\\w+)(?:\\s+\\1\\b)+', text)\n",
        "\n",
        "# Test\n",
        "text = \"The the cat cat is is very very cute cute.\"\n",
        "print(find_repeated_words(text))"
      ],
      "metadata": {
        "colab": {
          "base_uri": "https://localhost:8080/"
        },
        "id": "cD3Ik_xGGfgm",
        "outputId": "401f71ad-ad02-47c0-cbe5-58638e627326"
      },
      "execution_count": null,
      "outputs": [
        {
          "output_type": "stream",
          "name": "stdout",
          "text": [
            "['cat', 'is', 'very', 'cute']\n"
          ]
        }
      ]
    }
  ]
}